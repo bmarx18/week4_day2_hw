{
 "cells": [
  {
   "cell_type": "markdown",
   "metadata": {},
   "source": [
    "# Cl"
   ]
  },
  {
   "cell_type": "markdown",
   "metadata": {},
   "source": [
    "## Tasks Today:\n",
    " \n",
    "1) <b>In-Place Algorithms</b> <br>\n",
    " &nbsp;&nbsp;&nbsp;&nbsp; a) Syntax <br>\n",
    " &nbsp;&nbsp;&nbsp;&nbsp; a) Out of Place Algorithm <br>\n",
    " &nbsp;&nbsp;&nbsp;&nbsp; b) In-Class Exercise #1 <br>\n",
    "2) <b>Two Pointers</b> <br>\n",
    "3) <b>Linked Lists</b> <br>\n",
    "4) <b>Merge Sort</b> <br>\n",
    " &nbsp;&nbsp;&nbsp;&nbsp; a) Video on Algorithms <br>\n",
    " &nbsp;&nbsp;&nbsp;&nbsp; b) How it Works <br>\n",
    "5) <b>Exercises</b> <br>\n",
    " &nbsp;&nbsp;&nbsp;&nbsp; a) Exercise #1 - Reverse a List in Place Using an In-Place Algorithm <br>\n",
    " &nbsp;&nbsp;&nbsp;&nbsp; b) Exercise #2 - Find Distinct Words <br>\n",
    " &nbsp;&nbsp;&nbsp;&nbsp; c) Exercise #3 - Write a program to implement a Linear Search Algorithm. <br>"
   ]
  },
  {
   "cell_type": "markdown",
   "metadata": {},
   "source": [
    "## In-Place Algorithms"
   ]
  },
  {
   "cell_type": "markdown",
   "metadata": {},
   "source": [
    "#### Syntax"
   ]
  },
  {
   "cell_type": "code",
   "execution_count": null,
   "metadata": {},
   "outputs": [],
   "source": [
    "# var[i], var[j] = var[j], var[i]\n",
    "    #sometimes known as a swap algorithm\n",
    "\n",
    "def swap(alist, x, y, z):\n",
    "    alist[x], alist[y], alist[z] = alist[z], alist[y], alist[x]\n",
    "    return alist\n",
    "\n",
    "my_list = [20, 4, 10]\n",
    "swap(my_list)\n",
    "print(f'Before Swap: {my_list}')\n",
    "swap(my_list, 2, 0, 1)"
   ]
  },
  {
   "cell_type": "code",
   "execution_count": 6,
   "metadata": {},
   "outputs": [
    {
     "name": "stdout",
     "output_type": "stream",
     "text": [
      "Before Swap: [16, 7, 8]\n",
      "After Swap: [7, 16, 8]\n"
     ]
    }
   ],
   "source": [
    "def swap(alist, x, y, z):\n",
    "    alist[x], alist[y] = alist[y], alist[x]\n",
    "    return alist\n",
    "\n",
    "my_list = [16, 7, 8]\n",
    "print(f'Before Swap: {my_list}')\n",
    "swap(my_list, 1, 0, 2)\n",
    "print(f'After Swap: {my_list}')"
   ]
  },
  {
   "cell_type": "code",
   "execution_count": 5,
   "metadata": {},
   "outputs": [
    {
     "ename": "SyntaxError",
     "evalue": "invalid syntax (1654995227.py, line 3)",
     "output_type": "error",
     "traceback": [
      "\u001b[0;36m  Input \u001b[0;32mIn [5]\u001b[0;36m\u001b[0m\n\u001b[0;31m    return alist\u001b[0m\n\u001b[0m    ^\u001b[0m\n\u001b[0;31mSyntaxError\u001b[0m\u001b[0;31m:\u001b[0m invalid syntax\n"
     ]
    }
   ],
   "source": [
    "def swap(alist, x, y):\n",
    "    alist[x], alist[y] = alist[y, alist[x]\n",
    "    return alist\n",
    "                               \n",
    "my_list = [16, 7, 8]\n",
    "print(f'Before Swap: {my_list}')\n",
    "swap(my_list, 0, 2, 1)\n",
    "print(f'After Swap: {my_list}')"
   ]
  },
  {
   "cell_type": "markdown",
   "metadata": {},
   "source": [
    "#### Out of Place Algorithm"
   ]
  },
  {
   "cell_type": "code",
   "execution_count": 11,
   "metadata": {},
   "outputs": [
    {
     "name": "stdout",
     "output_type": "stream",
     "text": [
      "[10, 4, 20]\n",
      "['a', 'a', 'a', 'a']\n",
      "\n",
      "\n",
      "Before ['a', 'b', 'c', 'd']\n",
      "after ['d', 'c', 'b', 'a']\n"
     ]
    }
   ],
   "source": [
    "#out of place --> creating a new list or a list copy\n",
    "#not swapping, we reversing the list completely\n",
    "#but it also copies to another place in memory\n",
    "\n",
    "my_list = [20, 4, 10]\n",
    "\n",
    "my_list_copy = my_list[::-1]\n",
    "print(my_list_copy)\n",
    "\n",
    "array = ['a', 'b', 'c', 'd']\n",
    "new_array = ['a']*len(array)\n",
    "print(new_array)\n",
    "\n",
    "print('\\n\\nBefore', array)\n",
    "length = len(array) - 1 # = 3\n",
    "\n",
    "for i in range(length):\n",
    "    new_array[i] = array[length - i]\n",
    "    \n",
    "array = new_array\n",
    "print(\"after\", array)"
   ]
  },
  {
   "cell_type": "markdown",
   "metadata": {},
   "source": [
    "#### In-Class Exercise #1 <br>\n",
    "<p>Write a function that takes in four arguments (list, index1, index2, index3), and swaps those three positions in the list passed in.</p>"
   ]
  },
  {
   "cell_type": "code",
   "execution_count": 12,
   "metadata": {},
   "outputs": [
    {
     "name": "stdout",
     "output_type": "stream",
     "text": [
      "Before swap: [10, 4, 3, 8, 4, 2, 6]\n",
      "After swap: [10, 4, 3, 2, 8, 4, 6]\n"
     ]
    }
   ],
   "source": [
    "l_1 = [10, 4, 3, 8, 4, 2, 6]\n",
    "\n",
    "def swap_positions(alist, index1, index2, index3):\n",
    "    alist[index1],alist[index2],alist[index3] = alist[index3],alist[index1],alist[index2]\n",
    "    \n",
    "print(f\"Before swap: {l_1}\")\n",
    "swap_positions(l_1, 5, 3, 4)    \n",
    "print(f\"After swap: {l_1}\")"
   ]
  },
  {
   "cell_type": "markdown",
   "metadata": {},
   "source": [
    "## Two Pointers"
   ]
  },
  {
   "cell_type": "markdown",
   "metadata": {},
   "source": [
    "#### Syntax"
   ]
  },
  {
   "cell_type": "code",
   "execution_count": 17,
   "metadata": {},
   "outputs": [
    {
     "data": {
      "text/plain": [
       "[22, 11, 4, 8, 9, 12, 3, 2, 1]"
      ]
     },
     "execution_count": 17,
     "metadata": {},
     "output_type": "execute_result"
    }
   ],
   "source": [
    "#alist [left], alist[right] = alist[right], alist[left]\n",
    "#use two pointers to swap, you can use a while loop in most cases\n",
    "\n",
    "my_list2 = [1,2,3,12,9,8,4,11,22]\n",
    "\n",
    "def twoPointers(alist):\n",
    "    #creating pointers for the list\n",
    "    left = 0 # left is index zero starting on the left side. \n",
    "    right = len(alist) -1 # left is index of 8 starting at the end of the list \n",
    "    while left <= right:\n",
    "        alist[left], alist[right] = alist[right], alist[left] \n",
    "        left += 1\n",
    "        right -= 1\n",
    "    return alist\n",
    "\n",
    "twoPointers(my_list2)"
   ]
  },
  {
   "cell_type": "code",
   "execution_count": null,
   "metadata": {},
   "outputs": [],
   "source": [
    "#constant time O(1)\n",
    "array = [1,2,3,4]\n",
    "print(array[0])\n",
    "\n",
    "#linear time O(n)\n",
    "if 2 in array:\n",
    "    print(\"Its here\")\n",
    "for num in array:\n",
    "    print(num)\n",
    "    \n",
    "#O(n log n)\n",
    "array2 = [1, 5, 6, 8, 4, 6, 7, 4, 5, 2, 4]\n",
    "sorted_array = sorted(array2)\n",
    "array2.sort()\n",
    "\n",
    "\n",
    "#O(n^2) Quadratic\n",
    "array = [1,2,3,4]\n",
    "array2 = [1, 5, 6, 8, 4, 6, 7, 4, 5, 2, 4]\n",
    "for x in array: # looping through one list\n",
    "    if x in array2: # searching in another\n",
    "        print(x)\n",
    "        \n",
    "for x in array2: # double four loops are Quadratic\n",
    "    for y in array2:\n",
    "        print(x, y)\n",
    "# basically any nested linear operation is going to increase time complexity exponentially\n",
    "\n",
    "#cubic --> exponential\n",
    "for x in array2: # double four loops are Quadratic\n",
    "    for y in array2:\n",
    "        for z in array2:\n",
    "            print(x,y,z)\n",
    "            \n",
    "#time complexity \n",
    "#how many actions have to happen per things taken inputs\n",
    "\n",
    "#.count() linear\n",
    "#.append() constant\n",
    "#.sort()/sorted() o(n Log n)\n",
    "# .pop() constant\n",
    "# .poplist"
   ]
  },
  {
   "cell_type": "markdown",
   "metadata": {},
   "source": [
    "#### Video of Algorithms <br>\n",
    "<p>Watch the video about algorithms.</p>\n",
    "\n",
    "https://www.youtube.com/watch?v=Q9HjeFD62Uk\n",
    "\n",
    "https://www.youtube.com/watch?v=kPRA0W1kECg\n",
    "\n",
    "https://www.youtube.com/watch?v=ZZuD6iUe3Pc"
   ]
  },
  {
   "cell_type": "markdown",
   "metadata": {},
   "source": [
    "# Sorting Algorithms"
   ]
  },
  {
   "cell_type": "markdown",
   "metadata": {},
   "source": [
    "#### Bubble Sort\n",
    "\n",
    "Worst Case: O(n^2) Time - O(1) Space"
   ]
  },
  {
   "cell_type": "code",
   "execution_count": 24,
   "metadata": {},
   "outputs": [
    {
     "data": {
      "text/plain": [
       "[1, 22, 34, 44, 55, 66, 88, 100]"
      ]
     },
     "execution_count": 24,
     "metadata": {},
     "output_type": "execute_result"
    }
   ],
   "source": [
    "#best case O(n) - linear\n",
    "#worst case O(n^2) Quadratic\n",
    "\n",
    "my_list = [22, 55, 88, 44, 1, 100, 34, 66]\n",
    "def swap(i, j, array):\n",
    "    array[i], array[j] = array[j], array[i]\n",
    "    \n",
    "def bubbleSort(array):\n",
    "    isSorted = False #<------- setting a flag\n",
    "    while not isSorted:\n",
    "        isSorted = True\n",
    "        for index in range(len(array) -1):\n",
    "            if array[index] > array[index +1]:\n",
    "                        swap(index, index +1, array)\n",
    "                        isSorted = False\n",
    "                    \n",
    "    return array\n",
    "\n",
    "bubbleSort(my_list)"
   ]
  },
  {
   "cell_type": "markdown",
   "metadata": {},
   "source": [
    "##### Insertion Sort\n",
    "\n",
    "Worst Case: O(n^2) time - O(1)space"
   ]
  },
  {
   "cell_type": "code",
   "execution_count": 45,
   "metadata": {},
   "outputs": [
    {
     "data": {
      "text/plain": [
       "[1, 22, 34, 44, 55, 66, 88, 100]"
      ]
     },
     "execution_count": 45,
     "metadata": {},
     "output_type": "execute_result"
    }
   ],
   "source": [
    "def swap(i, j, array):\n",
    "    array[i], array[j] = array[j], array[i]\n",
    "    \n",
    "def insertionSort(array):\n",
    "    for i in range(1, len(array)): #<----- consider 0 to be sorted\n",
    "    #creating a check so we don't past the 0 index\n",
    "        j = i \n",
    "        while j > 0 and array[j] < array[j - 1]:\n",
    "            swap(j, j - 1, array)\n",
    "            j -= 1\n",
    "    return array\n",
    "    \n",
    "    my_list = [22, 55, 88, 44, 1, 100, 34, 66]\n",
    "\n",
    "insertionSort(my_list)"
   ]
  },
  {
   "cell_type": "markdown",
   "metadata": {},
   "source": [
    "## Merge Sort"
   ]
  },
  {
   "cell_type": "markdown",
   "metadata": {},
   "source": [
    "#### How it Works"
   ]
  },
  {
   "cell_type": "code",
   "execution_count": 1,
   "metadata": {},
   "outputs": [
    {
     "name": "stdout",
     "output_type": "stream",
     "text": [
      "[17, 12, 16, 5, 19]\n",
      "Splitting.... [17, 12, 16, 5, 19]\n",
      "Splitting.... [17, 12]\n",
      "Splitting.... [17]\n",
      "Merging:  [17]\n",
      "Splitting.... [12]\n",
      "Merging:  [12]\n",
      "Merging:  [12, 17]\n",
      "Splitting.... [16, 5, 19]\n",
      "Splitting.... [16]\n",
      "Merging:  [16]\n",
      "Splitting.... [5, 19]\n",
      "Splitting.... [5]\n",
      "Merging:  [5]\n",
      "Splitting.... [19]\n",
      "Merging:  [19]\n",
      "Merging:  [5, 19]\n",
      "Merging:  [5, 16, 19]\n",
      "Merging:  [5, 12, 16, 17, 19]\n"
     ]
    },
    {
     "data": {
      "text/plain": [
       "[5, 12, 16, 17, 19]"
      ]
     },
     "execution_count": 1,
     "metadata": {},
     "output_type": "execute_result"
    }
   ],
   "source": [
    "# Step 1: Split Everything into its own group\n",
    "# Step 2: From the left to right merge two groups together\n",
    "# Step 3: While merging, place each item in the correct position within the merged group\n",
    "# Step 4: Continue Steps 3-4 until only one group is left\n",
    "\n",
    "from random import randint\n",
    "#generate a random list of 5 numbers between 0 to 20\n",
    "nums = [randint(0, 20) for i in range(5)]\n",
    "\n",
    "print(nums)\n",
    "\n",
    "#merge sort function\n",
    "def mergeSort(alist):\n",
    "    print(\"Splitting....\", alist)\n",
    "    \n",
    "    #step 1: Divide the array into equal parts (as much as possible)\n",
    "    if len(alist) > 1:\n",
    "        mid = len(alist) // 2\n",
    "        lefthalf = alist[:mid]\n",
    "        righthalf = alist[mid:]\n",
    "        \n",
    "        # recursivelyu call mergeSort to perform splits until len(alist) == 1\n",
    "        # merge once the splits are done\n",
    "        mergeSort(lefthalf)\n",
    "        mergeSort(righthalf)\n",
    "        \n",
    "        #index pointers for our list\n",
    "        l = 0 #pointer for left half\n",
    "        r = 0 #pointer for our right half\n",
    "        m = 0 #pointer for main array\n",
    "        \n",
    "        #Step 2: Compare the lefthalf with righthalf\n",
    "        while l < len(lefthalf) and r < len(righthalf):\n",
    "            if lefthalf[l] < righthalf[r]:\n",
    "                alist[m] = lefthalf[l]\n",
    "                l += 1\n",
    "                \n",
    "            else:\n",
    "                alist[m] = righthalf[r]\n",
    "                r += 1\n",
    "                \n",
    "            m += 1\n",
    "            \n",
    "        #step 3: While merging place items in correct position\n",
    "        while l < len(lefthalf):\n",
    "            alist[m] = lefthalf[l]\n",
    "            l += 1\n",
    "            m += 1\n",
    "            \n",
    "        while r < len(righthalf):\n",
    "            alist[m] = righthalf[r]\n",
    "            r += 1\n",
    "            m += 1\n",
    "    print(\"Merging: \", alist)\n",
    "    return alist\n",
    "\n",
    "mergeSort(nums)"
   ]
  },
  {
   "cell_type": "markdown",
   "metadata": {},
   "source": [
    "# Binary Search\n",
    "\n",
    "The Binary Search algorithm works by finding the number in the middle of a given array and comparing it to the target. Given that the array is sorted\n",
    "\n",
    "* The worst case run time for this algorithm is `O(log(n))`"
   ]
  },
  {
   "cell_type": "code",
   "execution_count": 4,
   "metadata": {},
   "outputs": [
    {
     "data": {
      "text/plain": [
       "'The index is ....1.'"
      ]
     },
     "execution_count": 4,
     "metadata": {},
     "output_type": "execute_result"
    }
   ],
   "source": [
    "def bin_helper(array, target, left, right):\n",
    "    while left <= right:\n",
    "        middle = (left + right) // 2\n",
    "        potentialMatch = array[middle]\n",
    "        if target == potentialMatch:\n",
    "            return f'The index is ....{middle}.'\n",
    "        elif target < potentialMatch:\n",
    "            right = middle - 1\n",
    "        else:\n",
    "            left = middle + 1\n",
    "    return -1\n",
    "\n",
    "def binarySerach(array, target):\n",
    "    return bin_helper(array, target, 0, len(array)-1)\n",
    "\n",
    "binarySerach([22, 44, 55, 66, 88, 100], 44)"
   ]
  },
  {
   "cell_type": "markdown",
   "metadata": {},
   "source": [
    "# Exercises"
   ]
  },
  {
   "cell_type": "markdown",
   "metadata": {},
   "source": [
    "### Exercise #1 <br>\n",
    "<p>Reverse the list below in-place using an in-place algorithm.<br>For extra credit: Reverse the strings at the same time.</p>"
   ]
  },
  {
   "cell_type": "code",
   "execution_count": 7,
   "metadata": {},
   "outputs": [
    {
     "data": {
      "text/plain": [
       "['.', 'sentence', 'a', 'is', 'this']"
      ]
     },
     "execution_count": 7,
     "metadata": {},
     "output_type": "execute_result"
    }
   ],
   "source": [
    "def swap(alist, w, v, x, y, z):\n",
    "    alist[w], alist[v], alist[x], alist[y], alist[z] = alist[z], alist[y], alist[x], alist[v], alist[w]\n",
    "    return alist\n",
    "\n",
    "words = ['this' , 'is', 'a', 'sentence', '.']\n",
    "swap(words, 4, 3, 2, 1, 0)"
   ]
  },
  {
   "cell_type": "markdown",
   "metadata": {},
   "source": [
    "### Exercise #2 <br>\n",
    "<p>Create a function that counts how many distinct words are in the string below, then outputs a dictionary with the words as the key and the value as the amount of times that word appears in the string.<br>Should output:<br>{'a': 5,<br>\n",
    " 'abstract': 1,<br>\n",
    " 'an': 3,<br>\n",
    " 'array': 2, ... etc...</p>"
   ]
  },
  {
   "cell_type": "code",
   "execution_count": 68,
   "metadata": {},
   "outputs": [
    {
     "name": "stdout",
     "output_type": "stream",
     "text": [
      "{'in': 1, 'computing,': 1, 'a': 5, 'hash': 4, 'table': 2, 'map': 2, 'is': 1, 'data': 2, 'structure': 2, 'which': 2, 'implements': 1, 'an': 3, 'associative': 1, 'array': 2, 'abstract': 1, 'type,': 1, 'that': 1, 'can': 2, 'keys': 1, 'to': 2, 'values.': 1, 'uses': 1, 'function': 1, 'compute': 1, 'index': 1, 'into': 1, 'of': 1, 'buckets': 1, 'or': 1, 'slots': 1, 'from': 1, 'the': 1, 'desired': 1, 'value': 1, 'be': 1, 'found': 1}\n"
     ]
    }
   ],
   "source": [
    "import re\n",
    "\n",
    "def dict_word_num(a_text):\n",
    "    \n",
    "    a_text = 'In computing, a hash table hash map is a data structure which \\\n",
    "    implements an associative array abstract data type, a structure that can map keys to values. \\\n",
    "    A hash table uses a hash function to compute an index into an array of buckets or slots from which \\\n",
    "    the desired value can be found'    \n",
    "    individual_words_list = a_text.lower().split()\n",
    "    words_count = {}\n",
    "   \n",
    "    for word in individual_words_list:\n",
    "        words_count[word] = individual_words_list.count(word)\n",
    "    return words_count\n",
    "            \n",
    "print(dict_word_num(a_text))"
   ]
  },
  {
   "cell_type": "markdown",
   "metadata": {},
   "source": [
    "## Exercise #3\n",
    "\n",
    "Write a program to implement a Linear Search Algorithm. Also in a comment, write the Time Complexity of the following algorithm.\n",
    "\n",
    "#### Hint: Linear Searching will require searching a list for a given number. "
   ]
  },
  {
   "cell_type": "code",
   "execution_count": 74,
   "metadata": {},
   "outputs": [
    {
     "name": "stdout",
     "output_type": "stream",
     "text": [
      "[2, 2]\n"
     ]
    }
   ],
   "source": [
    "arr = [2,2,3,4]\n",
    "lucky = []\n",
    "def lucky_numbers(arr):\n",
    "    for x in arr:\n",
    "        if arr.count(x) == x:\n",
    "            lucky.append(x)\n",
    "    return lucky\n",
    "print(lucky_numbers(arr))\n",
    "\n",
    "#the time complexity for my whiteboard was O(n)"
   ]
  }
 ],
 "metadata": {
  "kernelspec": {
   "display_name": "Python 3 (ipykernel)",
   "language": "python",
   "name": "python3"
  },
  "language_info": {
   "codemirror_mode": {
    "name": "ipython",
    "version": 3
   },
   "file_extension": ".py",
   "mimetype": "text/x-python",
   "name": "python",
   "nbconvert_exporter": "python",
   "pygments_lexer": "ipython3",
   "version": "3.9.12"
  }
 },
 "nbformat": 4,
 "nbformat_minor": 2
}
